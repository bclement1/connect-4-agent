{
 "cells": [
  {
   "cell_type": "code",
   "execution_count": 5,
   "id": "bb0868e8",
   "metadata": {},
   "outputs": [],
   "source": [
    "import tensorflow as tf\n",
    "from tensorflow import keras\n",
    "from tensorflow.keras import layers\n",
    "import tqdm\n",
    "from pettingzoo.classic import connect_four_v3\n",
    "import numpy as np\n",
    "import random\n",
    "import json\n",
    "import os"
   ]
  },
  {
   "cell_type": "code",
   "execution_count": 2,
   "id": "960f43cf",
   "metadata": {},
   "outputs": [],
   "source": [
    "agent = Neuronal_Agent(player=0)"
   ]
  },
  {
   "cell_type": "code",
   "execution_count": 32,
   "id": "5ecfe960",
   "metadata": {},
   "outputs": [
    {
     "name": "stdout",
     "output_type": "stream",
     "text": [
      "WARNING:tensorflow:No training configuration found in save file, so the model was *not* compiled. Compile it manually.\n"
     ]
    }
   ],
   "source": [
    "agent.load(\"player_1000/\")\n"
   ]
  },
  {
   "cell_type": "code",
   "execution_count": 33,
   "id": "19874b04",
   "metadata": {},
   "outputs": [],
   "source": [
    "env_4_connect = connect_four_v3.env(render_mode=\"human\")\n",
    "env_4_connect.reset()"
   ]
  },
  {
   "cell_type": "code",
   "execution_count": 36,
   "id": "15dd80c7",
   "metadata": {},
   "outputs": [],
   "source": [
    "### One play\n",
    "observations = env_4_connect.last()\n",
    "action = agent.get_value(observations)\n",
    "env_4_connect.step(action)"
   ]
  },
  {
   "cell_type": "code",
   "execution_count": 37,
   "id": "9a60fce1",
   "metadata": {},
   "outputs": [],
   "source": [
    "env_4_connect.step(0)"
   ]
  },
  {
   "cell_type": "code",
   "execution_count": null,
   "id": "6c8f4a49",
   "metadata": {},
   "outputs": [],
   "source": []
  }
 ],
 "metadata": {
  "kernelspec": {
   "display_name": "Python 3 (ipykernel)",
   "language": "python",
   "name": "python3"
  },
  "language_info": {
   "codemirror_mode": {
    "name": "ipython",
    "version": 3
   },
   "file_extension": ".py",
   "mimetype": "text/x-python",
   "name": "python",
   "nbconvert_exporter": "python",
   "pygments_lexer": "ipython3",
   "version": "3.9.7"
  }
 },
 "nbformat": 4,
 "nbformat_minor": 5
}
