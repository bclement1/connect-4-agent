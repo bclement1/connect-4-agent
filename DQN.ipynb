{
 "cells": [
  {
   "attachments": {},
   "cell_type": "markdown",
   "metadata": {},
   "source": [
    "## Training a Deep Q-Learning Agent for Connect-4"
   ]
  },
  {
   "attachments": {},
   "cell_type": "markdown",
   "metadata": {},
   "source": [
    "Notebook made by Clément Boulay. <br>\n",
    "Inspired from lab 4."
   ]
  },
  {
   "attachments": {},
   "cell_type": "markdown",
   "metadata": {},
   "source": [
    "## Summary\n",
    "1. <a href=\"#Imports\">Imports</a>\n",
    "2. <a href=\"#SupportFunctions\">Support functions</a>\n",
    "3. <a href=\"#DummyAgent\">DummyAgent class</a>\n",
    "4. <a href=\"#MLP\">Multi-Layer Perceptron base class</a>\n",
    "5. <a href=\"#ReplayBuffer\">ReplayBuffer for DQN convergence</a>\n",
    "6. <a href=\"#DQN\">Main Deep Q-Networks class</a>\n",
    "7. <a href=\"#TrainEvaluationLoops\">Training and Evaluation loops</a>\n",
    "8. <a href=\"#TwoDummyAgents\">Testing 2 DummyAgent against each other</a>\n",
    "9. <a href=\"#Experiments\">Experiments with the DQN Agent</a>\n",
    "   1. <a href=\"#Exp1\">Experiment 1</a>\n",
    "   2. <a href=\"#Exp2\">Experiment 2</a>\n",
    "   3. <a href=\"#Exp3\">Experiment 3</a>\n",
    "   4. <a href=\"#Exp4\">Experiment 4</a>"
   ]
  },
  {
   "attachments": {},
   "cell_type": "markdown",
   "metadata": {},
   "source": [
    "## Imports \n",
    "<div id=\"Imports\"></div>"
   ]
  },
  {
   "cell_type": "code",
   "execution_count": 12,
   "metadata": {},
   "outputs": [],
   "source": [
    "# native imports\n",
    "from copy import deepcopy\n",
    "import os\n",
    "import random\n",
    "import sys"
   ]
  },
  {
   "cell_type": "code",
   "execution_count": 13,
   "metadata": {},
   "outputs": [],
   "source": [
    "# other imports\n",
    "import gymnasium as gym\n",
    "from gymnasium.spaces import Space # for typing\n",
    "from IPython.display import clear_output\n",
    "import matplotlib\n",
    "import matplotlib.pyplot as plt\n",
    "import numpy as np\n",
    "import pettingzoo\n",
    "from pettingzoo.classic import connect_four_v3\n",
    "import torch\n",
    "import torch.nn as nn\n",
    "import torch.nn.functional as F\n",
    "import torch.optim as optim"
   ]
  },
  {
   "cell_type": "code",
   "execution_count": 14,
   "metadata": {},
   "outputs": [],
   "source": [
    "%matplotlib inline\n",
    "matplotlib.style.use('ggplot')"
   ]
  },
  {
   "cell_type": "code",
   "execution_count": 15,
   "metadata": {},
   "outputs": [
    {
     "name": "stdout",
     "output_type": "stream",
     "text": [
      "Python version: 3.10.4 (tags/v3.10.4:9d38120, Mar 23 2022, 23:13:41) [MSC v.1929 64 bit (AMD64)]\n",
      "PyTorch version: 1.11.0+cpu\n",
      "Numpy version: 1.23.5\n",
      "Gymnasium version: 0.27.1\n",
      "PettingZoo version: 1.22.4\n"
     ]
    }
   ],
   "source": [
    "print(f\"Python version: {sys.version}\")\n",
    "print(f\"PyTorch version: {torch.__version__}\")\n",
    "print(f\"Numpy version: {np.__version__}\")\n",
    "print(f\"Gymnasium version: {gym.__version__}\")\n",
    "print(f\"PettingZoo version: {pettingzoo.__version__}\")"
   ]
  },
  {
   "attachments": {},
   "cell_type": "markdown",
   "metadata": {},
   "source": [
    "## Support functions\n",
    "<div id=\"SupportFunctions\"></div>"
   ]
  },
  {
   "cell_type": "code",
   "execution_count": 16,
   "metadata": {},
   "outputs": [],
   "source": [
    "def is_legal(observation, action):\n",
    "    \"\"\" \n",
    "    Return True if action is legal (ie., the corresponding column isn't full), else return False.\n",
    "\n",
    "    - observation (numpy.ndarray): a (6, 7, 2) array with columns on the second axis.\n",
    "    - action (int): ID of proposed action\n",
    "    \"\"\"\n",
    "    # get state of all columns\n",
    "    obs = observation['observation']\n",
    "    # print(obs)\n",
    "    cols = np.sum(np.sum(obs, axis=2), axis=0)\n",
    "    # print(cols)\n",
    "    # conclude accordingly\n",
    "    if cols[action] >= 6:\n",
    "        return False\n",
    "    else:\n",
    "        return True"
   ]
  },
  {
   "attachments": {},
   "cell_type": "markdown",
   "metadata": {},
   "source": [
    "## A DummyAgent to play against\n",
    "<div id=\"DummyAgent\"></div>"
   ]
  },
  {
   "cell_type": "code",
   "execution_count": 17,
   "metadata": {},
   "outputs": [],
   "source": [
    "class DummyAgent:\n",
    "    \"\"\" \n",
    "    Implement a DummyAgent that plays at random to train our DQN Agent against.\n",
    "    \"\"\" \n",
    "    def __init__(self, env, player_name: str):\n",
    "        self.env = deepcopy(env)\n",
    "        self.action_space = self.env.action_space\n",
    "        self.observation_space = self.env.observation_space\n",
    "        self.name = player_name\n",
    "        self.unique_id = int(self.name[-1])\n",
    "    \n",
    "    def get_action(self, state, *args):\n",
    "        \"\"\"  \n",
    "        The Agent plays at random.\n",
    "        \"\"\"\n",
    "        action = self.action_space(self.env.agents[self.unique_id]).sample()\n",
    "        while not is_legal(state, action):\n",
    "            action = self.action_space(self.env.agents[self.unique_id]).sample()\n",
    "        return action\n",
    "    \n",
    "    def update(self, *data):\n",
    "        \"\"\" \n",
    "        There is no update here.\n",
    "        \"\"\"\n",
    "        pass"
   ]
  },
  {
   "attachments": {},
   "cell_type": "markdown",
   "metadata": {},
   "source": [
    "## Simple Multi-Layer Perceptron class\n",
    "<div id=\"MLP\"></div>"
   ]
  },
  {
   "cell_type": "code",
   "execution_count": 18,
   "metadata": {},
   "outputs": [],
   "source": [
    "class MLP(nn.Module):\n",
    "    \"\"\"\n",
    "    Basic Multi-Layer Perceptron.\n",
    "    \"\"\"\n",
    "    def __init__(self, obs_size, hidden_size, n_actions):\n",
    "        super(MLP, self).__init__()\n",
    "        self.net = nn.Sequential(\n",
    "            nn.Linear(obs_size, hidden_size),\n",
    "            nn.ReLU(),\n",
    "            nn.Linear(hidden_size, n_actions)\n",
    "        )\n",
    "        # important note: there is no softmax here!\n",
    "\n",
    "    def forward(self, x):\n",
    "        # print(f\"Size of input is the MLP class: {x.size()}\")\n",
    "        return self.net(x)"
   ]
  },
  {
   "attachments": {},
   "cell_type": "markdown",
   "metadata": {},
   "source": [
    "## Implementing the replay buffer\n",
    "<div id=\"ReplayBuffer\"></div>"
   ]
  },
  {
   "cell_type": "code",
   "execution_count": 19,
   "metadata": {},
   "outputs": [],
   "source": [
    "class ReplayBuffer:\n",
    "    \"\"\"\n",
    "    Implement a ReplayBuffer class that we will use for stacking data for backpropagation.\n",
    "    \"\"\"\n",
    "    def __init__(self, capacity: int):\n",
    "        self.capacity = capacity\n",
    "        print(f\"[ReplayBuffer] Initializing a ReplayBuffer with capacity: {self.capacity}\")\n",
    "        self.memory = []\n",
    "        self.position = 0\n",
    "\n",
    "    def push(self, state, action, reward, terminated, next_state):\n",
    "        \"\"\"\n",
    "        Saves a transition into the buffer iff there is capacity left.\n",
    "        \"\"\"\n",
    "        if len(self.memory) < self.capacity:\n",
    "            self.memory.append(None)\n",
    "        self.memory[self.position] = (state, action, reward, terminated, next_state)\n",
    "        self.position = (self.position + 1) % self.capacity\n",
    "\n",
    "    def sample(self, batch_size):\n",
    "        return random.choices(self.memory, k=batch_size)\n",
    "\n",
    "    def __len__(self):\n",
    "        return len(self.memory)"
   ]
  },
  {
   "attachments": {},
   "cell_type": "markdown",
   "metadata": {},
   "source": [
    "## Deep Q-Networks main class\n",
    "<div id=\"DQN\"></div>"
   ]
  },
  {
   "cell_type": "code",
   "execution_count": 20,
   "metadata": {},
   "outputs": [],
   "source": [
    "class DQN:\n",
    "    \"\"\"  \n",
    "    Implement a Deep Q-Network environment.\n",
    "    \"\"\"\n",
    "    def __init__(self,\n",
    "                env,\n",
    "                gamma,\n",
    "                batch_size,\n",
    "                buffer_capacity,\n",
    "                update_target_every, \n",
    "                epsilon_start, \n",
    "                decrease_epsilon_factor, \n",
    "                epsilon_min,\n",
    "                learning_rate,\n",
    "                player_name: str = \"player_0\"\n",
    "                ): \n",
    "        self.env = deepcopy(env)\n",
    "        self.name = player_name\n",
    "        self.unique_id = int(self.name[-1])\n",
    "        self.action_space = self.env.action_space\n",
    "        self.observation_space = self.env.observation_space\n",
    "        self.gamma = gamma\n",
    "        self.batch_size = batch_size\n",
    "        self.buffer_capacity = buffer_capacity\n",
    "        self.update_target_every = update_target_every\n",
    "        self.epsilon_start = epsilon_start\n",
    "        # larger epsilon factor means more exploration\n",
    "        self.decrease_epsilon_factor = decrease_epsilon_factor\n",
    "        self.epsilon_min = epsilon_min\n",
    "        self.learning_rate = learning_rate\n",
    "        print(f\"[DQN] Initializing a DQN agent as: {self.name}\")\n",
    "        self.reset()\n",
    "        \n",
    "    def get_action(self, state, epsilon=None):\n",
    "        \"\"\"\n",
    "            Return an action according to an epsilon-greedy exploration policy.\n",
    "        \"\"\"\n",
    "        if epsilon is None: \n",
    "            epsilon = self.epsilon\n",
    "        \n",
    "        action = None\n",
    "        q_action = np.argmax(self.get_q(state))\n",
    "        # case 1: the Q-Action is not legal; we must play at random\n",
    "        if not is_legal(state, q_action):\n",
    "            while (action is None) or (not is_legal(state, action)):\n",
    "                action = self.env.action_space(self.name).sample()\n",
    "        else:\n",
    "            while (action is None) or (not is_legal(state, action)):\n",
    "                if np.random.rand() < epsilon: \n",
    "                    action = self.env.action_space(self.name).sample()\n",
    "                else: \n",
    "                    return np.argmax(self.get_q(state))\n",
    "        return action       \n",
    "    \n",
    "    def update(self, state, action, reward, terminated, next_state):\n",
    "        \"\"\"\n",
    "        Update the target\n",
    "        \"\"\"\n",
    "        # add data to replay buffer\n",
    "        if state is None or next_state is None:\n",
    "            return -1\n",
    "        \n",
    "        # print(f\"State: {state}\\nAction: {action}\\nReward: {reward}\\nTerminated: {terminated}\\nNext state: {next_state}\\n\")\n",
    "        self.buffer.push(torch.tensor(state['observation']).unsqueeze(0), \n",
    "                            torch.tensor([[action]], dtype=torch.int64), \n",
    "                            torch.tensor([reward]), \n",
    "                            torch.tensor([terminated], dtype=torch.int64), \n",
    "                            torch.tensor(next_state['observation']).unsqueeze(0),\n",
    "                            )\n",
    "\n",
    "        # print(f\"[DQN] Buffer size: {len(self.buffer)}\")\n",
    "        # if len(self.buffer) < self.batch_size:\n",
    "        #     return -1\n",
    "    \n",
    "        # if we have gathered enough data, get a batch\n",
    "        transitions = self.buffer.sample(self.batch_size)\n",
    "\n",
    "        # Compute loss\n",
    "        state_batch, action_batch, reward_batch, terminated_batch, next_state_batch = tuple(\n",
    "            [torch.cat(data) for data in zip(*transitions)]\n",
    "        )\n",
    "\n",
    "        flatten_tensor = torch.flatten(state_batch, start_dim=1, end_dim=3).float()\n",
    "        # print(f\"Flatten tensor shape in agent update: {flatten_tensor.size()}\")\n",
    "        values = self.q_net.forward(flatten_tensor).gather(1, action_batch)\n",
    "\n",
    "        # Compute the ideal Q values\n",
    "        with torch.no_grad():\n",
    "            flatten_tensor_target_net = torch.flatten(next_state_batch, start_dim=1, end_dim=3).float()\n",
    "            next_state_values = (1 - terminated_batch) * self.target_net(flatten_tensor_target_net).max(1)[0]\n",
    "            targets = next_state_values * self.gamma + reward_batch\n",
    "\n",
    "        loss = self.loss_function(values, targets.unsqueeze(1))\n",
    "\n",
    "        # Optimize the model \n",
    "        self.optimizer.zero_grad()\n",
    "        loss.backward()\n",
    "        #torch.nn.utils.clip_grad_value_(self.q_net.parameters(), 100)\n",
    "        self.optimizer.step()\n",
    "        \n",
    "        if not((self.n_steps+1) % self.update_target_every): \n",
    "            self.target_net.load_state_dict(self.q_net.state_dict())\n",
    "            \n",
    "        self.decrease_epsilon()\n",
    "            \n",
    "        self.n_steps += 1\n",
    "        if terminated: \n",
    "            self.n_eps += 1\n",
    "\n",
    "        return loss.detach().numpy()\n",
    "    \n",
    "    def get_q(self, state):\n",
    "        \"\"\"\n",
    "        Compute Q function for a states\n",
    "        \"\"\"\n",
    "        state_tensor = torch.tensor(state['observation']).unsqueeze(0)\n",
    "        flatten_tensor = torch.flatten(state_tensor, start_dim=1, end_dim=3).float()\n",
    "        with torch.no_grad():\n",
    "            # print(\"Flattened tensor: \", flatten_tensor)\n",
    "            output = self.q_net.forward(flatten_tensor) # shape (1,  n_actions)\n",
    "        return output.numpy()[0]  # shape  (n_actions)\n",
    "    \n",
    "    def decrease_epsilon(self):\n",
    "        self.epsilon = self.epsilon_min + (self.epsilon_start - self.epsilon_min) * (\n",
    "                        np.exp(-1. * self.n_eps / self.decrease_epsilon_factor ) )\n",
    "    \n",
    "    def reset(self):\n",
    "        \"\"\" \n",
    "        Plays a role identical to __init__, but with fixed attributes.\n",
    "        \"\"\"\n",
    "        # hidden layer size for the Q-Network\n",
    "        self.hidden_size = 128\n",
    "        # the observation size is fixed for Connect-4\n",
    "        self.num_rows = 6\n",
    "        self.num_cols = 7\n",
    "        num_players = 2\n",
    "        self.obs_size = self.num_cols*self.num_rows*num_players\n",
    "        # as well as the number of possible actions - some might be become illegal during the game\n",
    "        self.n_actions = self.num_cols\n",
    "        \n",
    "        self.buffer = ReplayBuffer(self.buffer_capacity)\n",
    "        # this is the behavioral network which aims at learning the optimal Action-State values\n",
    "        self.q_net =  MLP(self.obs_size, self.hidden_size, self.n_actions)\n",
    "        # this is the estimation network, which will be update frequently\n",
    "        self.target_net = MLP(self.obs_size, self.hidden_size, self.n_actions)\n",
    "        \n",
    "        # we will use a Mean Squared Error loss function\n",
    "        self.loss_function = nn.MSELoss()\n",
    "        self.optimizer = optim.Adam(params=self.q_net.parameters(), lr=self.learning_rate)\n",
    "        \n",
    "        self.epsilon = self.epsilon_start\n",
    "        self.n_steps = 0\n",
    "        self.n_eps = 0"
   ]
  },
  {
   "attachments": {},
   "cell_type": "markdown",
   "metadata": {},
   "source": [
    "## Training and evaluation loops\n",
    "<div id=\"TrainEvaluationLoops\"></div>"
   ]
  },
  {
   "cell_type": "code",
   "execution_count": 21,
   "metadata": {},
   "outputs": [],
   "source": [
    "def run_one_episode(env, agent_id: int, player_0, player_1, display=False):\n",
    "    \"\"\" \n",
    "    Run a single game of Connect-4.\n",
    "    \"\"\"\n",
    "    agents = [player_0, player_1]\n",
    "    done = False\n",
    "    state = env.reset()\n",
    "    # rewards will only be computed for the player whose ID matches agent_id\n",
    "    rewards = 0\n",
    "\n",
    "    while not done:\n",
    "        for agent in agents:\n",
    "            state, reward, termination, truncation, info = env.last()\n",
    "            done = termination or truncation\n",
    "            # print(f\"Turn of agent {agent.unique_id}\")\n",
    "            # print(\"Reward:\", reward)\n",
    "            if agent.unique_id == agent_id:\n",
    "                rewards += reward\n",
    "            if done: \n",
    "                break\n",
    "            else:\n",
    "                action = agent.get_action(state)\n",
    "                env.step(action)\n",
    "            \n",
    "            if display: \n",
    "                env.render()\n",
    "\n",
    "    if display:\n",
    "        env.close()\n",
    "    return rewards"
   ]
  },
  {
   "cell_type": "code",
   "execution_count": 34,
   "metadata": {},
   "outputs": [],
   "source": [
    "def train(env, agent_id, player_0, player_1, N_episodes, eval_every=50, reward_threshold=0.9):\n",
    "    \"\"\" \n",
    "    Train a DQN agent against a DummyAgent which plays at random.\n",
    "    \"\"\"\n",
    "    print(\"[Train] Training the DQN Agent using a Dummy Agent as opponent.\")\n",
    "    agents = [player_0, player_1]\n",
    "    losses = []\n",
    "    all_rewards = []\n",
    "    \n",
    "    for ep in range(N_episodes):\n",
    "        print(f\"[Train] Episode {ep+1}/{N_episodes}\")\n",
    "        done = False\n",
    "        state = env.reset()\n",
    "        ep_length = 0\n",
    "        while not done:\n",
    "            ep_length += 1\n",
    "            # print(f\"Ep length is: {ep_length}\")\n",
    "            for agent in agents:\n",
    "                next_state, reward, terminated, truncated, info = env.last()\n",
    "                done = terminated or truncated\n",
    "                if done:\n",
    "                    break \n",
    "                else:\n",
    "                    action = agent.get_action(next_state)\n",
    "                    env.step(action)\n",
    "                    if agent.unique_id == agent_id:\n",
    "                        loss_val = agent.update(state, action, reward, terminated, next_state)\n",
    "                        losses.append(loss_val)\n",
    "                        state = next_state                \n",
    "                    \n",
    "        if ep%eval_every == 0:\n",
    "            print(\"[Train] Evaluating the DQN Agent.\")\n",
    "            rewards = eval_agent(env, agent_id, player_0, player_1, n_sim=20)\n",
    "            all_rewards.append(np.mean(rewards))\n",
    "            print(f\"Mean reward is: {np.mean(rewards)}\")\n",
    "            if np.mean(rewards) >= reward_threshold:\n",
    "                break\n",
    "                \n",
    "    return losses, all_rewards"
   ]
  },
  {
   "cell_type": "code",
   "execution_count": 23,
   "metadata": {},
   "outputs": [],
   "source": [
    "def eval_agent(env, agent_id: int, player_0, player_1, n_sim: int = 5):\n",
    "    \"\"\"\n",
    "    Monte Carlo evaluation of DQN agent.\n",
    "\n",
    "    Inputs:\n",
    "        - agent_id: the ID (either 0 or 1) of the DQN Agent.\n",
    "        - player_0: a DQN instance or a DummyAgent instance depending on which plays first\n",
    "        - n_sim : number of episodes to run for evaluating the DQN Agent\n",
    "\n",
    "    The process is as follows:\n",
    "        - for a fixed policy followed by the DQN Agent, run n_sim full episodes\n",
    "        - for each full episode ran, compute the sum of rewards in this episode\n",
    "        - and store it into the episode_rewards array that will be returned\n",
    "    \"\"\"\n",
    "    agents = [player_0, player_1]\n",
    "    # rewards will only be computed for the player whose ID matches the agent_id\n",
    "    episodes_rewards = np.zeros(n_sim)\n",
    "\n",
    "    for ep in range(n_sim):\n",
    "        state = env.reset()\n",
    "        reward_sum = 0\n",
    "        done = False\n",
    "        while not done: \n",
    "            for agent in agents:\n",
    "                state, reward, terminated, truncated, info = env.last()\n",
    "                if agent.unique_id == agent_id:\n",
    "                    reward_sum += reward\n",
    "                done = terminated or truncated\n",
    "                if done:\n",
    "                    break\n",
    "                else:\n",
    "                    # we have the guarantee by the get_action method that the action is legal\n",
    "                    action = agent.get_action(state)\n",
    "                    env.step(action)\n",
    "                \n",
    "        episodes_rewards[ep] = reward_sum\n",
    "    return episodes_rewards"
   ]
  },
  {
   "attachments": {},
   "cell_type": "markdown",
   "metadata": {},
   "source": [
    "## Testing two DummyAgents against each other\n",
    "<div id=\"TwoDummyAgents\"></div>"
   ]
  },
  {
   "cell_type": "code",
   "execution_count": 24,
   "metadata": {},
   "outputs": [],
   "source": [
    "env = connect_four_v3.env('human')\n",
    "env.reset()\n",
    "player_0 = DummyAgent(env, player_name=\"player_0\")\n",
    "player_1 = DummyAgent(env, player_name=\"player_1\")"
   ]
  },
  {
   "cell_type": "code",
   "execution_count": 25,
   "metadata": {},
   "outputs": [
    {
     "name": "stdout",
     "output_type": "stream",
     "text": [
      "Reward for episode 0 is: 1\n",
      "Reward for episode 1 is: 0\n",
      "Reward for episode 2 is: 1\n",
      "Reward for episode 3 is: 0\n",
      "Reward for episode 4 is: 1\n",
      "Reward for episode 5 is: 0\n",
      "Reward for episode 6 is: 0\n",
      "Reward for episode 7 is: 0\n",
      "Reward for episode 8 is: 1\n",
      "Reward for episode 9 is: 1\n"
     ]
    }
   ],
   "source": [
    "for i in range(10):\n",
    "    env.reset()\n",
    "    cumulated_reward = run_one_episode(env, agent_id=0, player_0=player_0, player_1=player_1, display=False)\n",
    "    print(f\"Reward for episode {i} is: {cumulated_reward}\")"
   ]
  },
  {
   "cell_type": "code",
   "execution_count": 27,
   "metadata": {},
   "outputs": [
    {
     "name": "stdout",
     "output_type": "stream",
     "text": [
      "Average over 30 runs : 0.47\n"
     ]
    }
   ],
   "source": [
    "n_sim = 30\n",
    "all_rewards = eval_agent(\n",
    "      env,\n",
    "      agent_id=0,\n",
    "      player_0=player_0,\n",
    "      player_1=player_1,\n",
    "      n_sim=n_sim)\n",
    "print(f'Average over {n_sim} runs : {round(np.mean(all_rewards), 2)}')"
   ]
  },
  {
   "attachments": {},
   "cell_type": "markdown",
   "metadata": {},
   "source": [
    "## Experiments with the DQN Agent\n",
    "<div id=\"Experiments\"></div>"
   ]
  },
  {
   "attachments": {},
   "cell_type": "markdown",
   "metadata": {},
   "source": [
    "The target will be to outperform 0.6 while evaluating (result from the previous section when playing first)."
   ]
  },
  {
   "cell_type": "code",
   "execution_count": 28,
   "metadata": {},
   "outputs": [],
   "source": [
    "env = connect_four_v3.env('human')\n",
    "env.reset()"
   ]
  },
  {
   "cell_type": "code",
   "execution_count": 75,
   "metadata": {},
   "outputs": [],
   "source": [
    "# just in case you need to rerun the simulation\n",
    "# env.close()"
   ]
  },
  {
   "cell_type": "code",
   "execution_count": 29,
   "metadata": {},
   "outputs": [],
   "source": [
    "# static hyperparameters\n",
    "N_episodes = 1000\n",
    "buffer_capacity = 100\n",
    "epsilon_start = 0.9\n",
    "epsilon_end = 0.05\n",
    "gamma = 0.9 # discount factor"
   ]
  },
  {
   "cell_type": "code",
   "execution_count": 30,
   "metadata": {},
   "outputs": [],
   "source": [
    "# EXPERIMENT 1\n",
    "learning_rate = 1e-1\n",
    "batch_size = 8\n",
    "decrease_epsilon_factor = 1000\n",
    "f_target = [8, 16, 32, 64]\n",
    "arguments_exp1 = []\n",
    "\n",
    "for update_target_every in f_target:\n",
    "    arguments_exp1.append((\n",
    "            env,\n",
    "            gamma,\n",
    "            batch_size,\n",
    "            buffer_capacity,\n",
    "            update_target_every, \n",
    "            epsilon_start, \n",
    "            decrease_epsilon_factor, \n",
    "            epsilon_end,\n",
    "            learning_rate,\n",
    "            \"player_0\"\n",
    "        ))"
   ]
  },
  {
   "cell_type": "code",
   "execution_count": 31,
   "metadata": {},
   "outputs": [],
   "source": [
    "# EXPERIMENT 2\n",
    "learning_rates = [0.1, 0.05, 0.01, 0.001]\n",
    "batch_size = 8\n",
    "decrease_epsilon_factor = 1000\n",
    "update_target_every = 16 # f_target\n",
    "arguments_exp2 = []\n",
    "\n",
    "for learning_rate in learning_rates:\n",
    "    arguments_exp2.append((\n",
    "            env,\n",
    "            gamma,\n",
    "            batch_size,\n",
    "            buffer_capacity,\n",
    "            update_target_every, \n",
    "            epsilon_start, \n",
    "            decrease_epsilon_factor, \n",
    "            epsilon_end,\n",
    "            learning_rate,\n",
    "            \"player_0\"\n",
    "        ))"
   ]
  },
  {
   "cell_type": "code",
   "execution_count": 32,
   "metadata": {},
   "outputs": [],
   "source": [
    "# EXPERIMENT 3\n",
    "batch_sizes = [8, 16, 32, 64]\n",
    "update_target_every = 16 # f_target\n",
    "learning_rate = 0.1\n",
    "decrease_epsilon_factor = 1000\n",
    "arguments_exp3 = []\n",
    "\n",
    "for batch_size in batch_sizes:\n",
    "    arguments_exp3.append((\n",
    "            env,\n",
    "            gamma,\n",
    "            batch_size,\n",
    "            buffer_capacity,\n",
    "            update_target_every, \n",
    "            epsilon_start, \n",
    "            decrease_epsilon_factor, \n",
    "            epsilon_end,\n",
    "            learning_rate,\n",
    "            \"player_0\"\n",
    "        ))"
   ]
  },
  {
   "cell_type": "code",
   "execution_count": 33,
   "metadata": {},
   "outputs": [],
   "source": [
    "# EXPERIMENT 4\n",
    "batch_size = 8\n",
    "update_target_every = 16 # f_target\n",
    "learning_rate = 0.1\n",
    "decrease_epsilon_factors = [10, 50, 100, 1000]\n",
    "arguments_exp4 = []\n",
    "\n",
    "for decrease_epsilon_factor in decrease_epsilon_factors:\n",
    "    arguments_exp4.append((\n",
    "            env,\n",
    "            gamma,\n",
    "            batch_size,\n",
    "            buffer_capacity,\n",
    "            update_target_every, \n",
    "            epsilon_start, \n",
    "            decrease_epsilon_factor, \n",
    "            epsilon_end,\n",
    "            learning_rate,\n",
    "            \"player_0\"\n",
    "        ))"
   ]
  },
  {
   "attachments": {},
   "cell_type": "markdown",
   "metadata": {},
   "source": [
    "### Experiment 1\n",
    "<div id=\"Exp1\"></div>"
   ]
  },
  {
   "cell_type": "code",
   "execution_count": 77,
   "metadata": {},
   "outputs": [
    {
     "name": "stdout",
     "output_type": "stream",
     "text": [
      "[DQN] Initializing a DQN agent as: player_0\n",
      "[ReplayBuffer] Initializing a ReplayBuffer with capacity: 10000\n"
     ]
    }
   ],
   "source": [
    "results_exp1 = []\n",
    "player_1 = DummyAgent(env, player_name=\"player_1\")\n",
    "for argument_exp1 in arguments_exp1:\n",
    "    player_0 = DQN(*argument_exp1)\n",
    "    train_losses, all_rewards = train(env,\n",
    "                            agent_id=0,\n",
    "                            player_0=player_0,\n",
    "                            player_1=player_1,\n",
    "                            N_episodes=N_episodes,\n",
    "                            eval_every=50)\n",
    "    rewards = eval_agent(env, 0, player_0, player_1, 100)\n",
    "    # score is the mean of the last 10 evaluations\n",
    "    results_exp1.append(np.mean(rewards[-10:]))"
   ]
  },
  {
   "attachments": {},
   "cell_type": "markdown",
   "metadata": {},
   "source": [
    "### Experiment 2\n",
    "<div id=\"Exp2\"></div>"
   ]
  },
  {
   "cell_type": "code",
   "execution_count": null,
   "metadata": {},
   "outputs": [],
   "source": [
    "results_exp2 = []\n",
    "player_1 = DummyAgent(env, player_name=\"player_1\")\n",
    "for argument_exp2 in arguments_exp2:\n",
    "    player_0 = DQN(*argument_exp2)\n",
    "    train_losses, all_rewards = train(env,\n",
    "                            agent_id=0,\n",
    "                            player_0=player_0,\n",
    "                            player_1=player_1,\n",
    "                            N_episodes=N_episodes,\n",
    "                            eval_every=50)\n",
    "    rewards = eval_agent(env, 0, player_0, player_1, 100)\n",
    "    # score is the mean of the last 10 evaluations\n",
    "    results_exp2.append(np.mean(rewards[-10:]))"
   ]
  },
  {
   "attachments": {},
   "cell_type": "markdown",
   "metadata": {},
   "source": [
    "### Experiment 3\n",
    "<div id=\"Exp3\"></div>"
   ]
  },
  {
   "cell_type": "code",
   "execution_count": null,
   "metadata": {},
   "outputs": [],
   "source": [
    "results_exp3 = []\n",
    "player_1 = DummyAgent(env, player_name=\"player_1\")\n",
    "for argument_exp3 in arguments_exp3:\n",
    "    player_0 = DQN(*argument_exp1)\n",
    "    train_losses, all_rewards = train(env,\n",
    "                            agent_id=0,\n",
    "                            player_0=player_0,\n",
    "                            player_1=player_1,\n",
    "                            N_episodes=N_episodes,\n",
    "                            eval_every=50)\n",
    "    rewards = eval_agent(env, 0, player_0, player_1, 100)\n",
    "    # score is the mean of the last 10 evaluations\n",
    "    results_exp3.append(np.mean(rewards[-10:]))"
   ]
  },
  {
   "attachments": {},
   "cell_type": "markdown",
   "metadata": {},
   "source": [
    "### Experiment 4\n",
    "<div id=\"Exp4\"></div>"
   ]
  },
  {
   "cell_type": "code",
   "execution_count": null,
   "metadata": {},
   "outputs": [],
   "source": [
    "results_exp4 = []\n",
    "player_1 = DummyAgent(env, player_name=\"player_1\")\n",
    "for argument_exp4 in arguments_exp4:\n",
    "    player_0 = DQN(*argument_exp1)\n",
    "    train_losses, all_rewards = train(env,\n",
    "                            agent_id=0,\n",
    "                            player_0=player_0,\n",
    "                            player_1=player_1,\n",
    "                            N_episodes=N_episodes,\n",
    "                            eval_every=50)\n",
    "    rewards = eval_agent(env, 0, player_0, player_1, 100)\n",
    "    # score is the mean of the last 10 evaluations\n",
    "    results_exp4.append(np.mean(rewards[-10:]))"
   ]
  },
  {
   "attachments": {},
   "cell_type": "markdown",
   "metadata": {},
   "source": [
    "### Annexe : visualisation de l'apprentissage \n",
    "Vous pouvez faire tourner les codes suivants pour suivre l'apprentissage."
   ]
  },
  {
   "cell_type": "code",
   "execution_count": 80,
   "metadata": {},
   "outputs": [],
   "source": [
    "losses_formated = []\n",
    "for loss in train_losses:\n",
    "    if loss > 0:\n",
    "        losses_formated.append(loss.item())"
   ]
  },
  {
   "cell_type": "code",
   "execution_count": 81,
   "metadata": {},
   "outputs": [
    {
     "data": {
      "text/plain": [
       "[<matplotlib.lines.Line2D at 0x13fbda475b0>]"
      ]
     },
     "execution_count": 81,
     "metadata": {},
     "output_type": "execute_result"
    },
    {
     "data": {
      "image/png": "[encoded data removed]",
      "text/plain": [
       "<Figure size 432x288 with 1 Axes>"
      ]
     },
     "metadata": {},
     "output_type": "display_data"
    }
   ],
   "source": [
    "plt.plot(range(len(losses_formated)) + np.ones(shape=(len(losses_formated))), losses_formated)"
   ]
  },
  {
   "cell_type": "code",
   "execution_count": 82,
   "metadata": {},
   "outputs": [
    {
     "data": {
      "text/plain": [
       "(0.0, 1.0)"
      ]
     },
     "execution_count": 82,
     "metadata": {},
     "output_type": "execute_result"
    },
    {
     "data": {
      "image/png": "[encoded data removed]",
      "text/plain": [
       "<Figure size 432x288 with 1 Axes>"
      ]
     },
     "metadata": {},
     "output_type": "display_data"
    }
   ],
   "source": [
    "plt.plot(range(len(losses_formated)) + np.ones(shape=(len(losses_formated))), losses_formated)\n",
    "plt.ylim(0, 1)"
   ]
  },
  {
   "cell_type": "code",
   "execution_count": 83,
   "metadata": {},
   "outputs": [
    {
     "data": {
      "text/plain": [
       "[<matplotlib.lines.Line2D at 0x13fbfd4dd20>]"
      ]
     },
     "execution_count": 83,
     "metadata": {},
     "output_type": "execute_result"
    },
    {
     "data": {
      "image/png": "[encoded data removed]",
      "text/plain": [
       "<Figure size 432x288 with 1 Axes>"
      ]
     },
     "metadata": {},
     "output_type": "display_data"
    }
   ],
   "source": [
    "# plot rewards over evaluation episodes\n",
    "plt.plot(range(len(all_rewards)), all_rewards)"
   ]
  }
 ],
 "metadata": {
  "kernelspec": {
   "display_name": "Python 3 (ipykernel)",
   "language": "python",
   "name": "python3"
  },
  "language_info": {
   "codemirror_mode": {
    "name": "ipython",
    "version": 3
   },
   "file_extension": ".py",
   "mimetype": "text/x-python",
   "name": "python",
   "nbconvert_exporter": "python",
   "pygments_lexer": "ipython3",
   "version": "3.10.4"
  }
 },
 "nbformat": 4,
 "nbformat_minor": 2
}
